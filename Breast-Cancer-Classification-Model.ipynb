{
 "cells": [
  {
   "cell_type": "markdown",
   "id": "513e396b",
   "metadata": {},
   "source": [
    "### Importing the libraries"
   ]
  },
  {
   "cell_type": "code",
   "execution_count": 8,
   "id": "e542f951",
   "metadata": {},
   "outputs": [],
   "source": [
    "import pandas as pd\n",
    "import numpy as np\n",
    "from sklearn.model_selection import train_test_split"
   ]
  },
  {
   "cell_type": "markdown",
   "id": "d322c904",
   "metadata": {},
   "source": [
    "### Defining the functions "
   ]
  },
  {
   "cell_type": "code",
   "execution_count": 9,
   "id": "338812ad",
   "metadata": {},
   "outputs": [],
   "source": [
    "def sigmoid(z,epsilon_=1e-6):\n",
    "    if z>0 and z<epsilon_:\n",
    "        z=epsilon_\n",
    "    elif z>-epsilon_ and z<0:\n",
    "        z=-epsilon_\n",
    "    elif z>700:\n",
    "        z=700\n",
    "    elif z<-700:\n",
    "        z=-700\n",
    "    g = 1 / (1 + (np.exp(-z)))\n",
    "    return g\n",
    "\n",
    "def cost_(W,b,X,Y,epsilon_=1e-6):\n",
    "    total_loss=0\n",
    "    for i in range(m):\n",
    "        power_term=np.dot(W,X[i])+b\n",
    "        internal_term=sigmoid(power_term)\n",
    "        if internal_term<epsilon_:\n",
    "            internal_term=epsilon_\n",
    "        elif internal_term==float(1):\n",
    "            internal_term=float(1)-epsilon_\n",
    "        loss=(-(float(Y[i])*np.log(internal_term))-((1-float(Y[i]))*np.log(1-internal_term)))\n",
    "        total_loss+=loss\n",
    "    total_cost=total_loss/m\n",
    "    return total_cost\n",
    "\n",
    "def cost(W,b,X,Y,lambda_=2):\n",
    "    unregu_cost=cost_(W,b,X,Y)\n",
    "    W=(W**2)\n",
    "    regu_w=(lambda_/(2*m))*(np.sum(W))\n",
    "    regu_b=(lambda_/(2*m))*(b**2)\n",
    "    total_cost=unregu_cost+regu_b+regu_w\n",
    "    return total_cost\n",
    "\n",
    "def gradient_(W,b,X,Y):\n",
    "    dJ_dw=np.zeros(n)\n",
    "    dJ_db=0\n",
    "    overall=0\n",
    "    for i in range(m):\n",
    "        power_term=np.dot(W,X[i])+b\n",
    "        internal_term=sigmoid(power_term)\n",
    "        term=internal_term-float(Y[i])\n",
    "        overall+=term\n",
    "    dJ_db=overall/m\n",
    "    overall=0\n",
    "    for i in range(m):\n",
    "        power_term=np.dot(W,X[i])+b\n",
    "        internal_term=sigmoid(power_term)\n",
    "        term=(internal_term-float(Y[i]))*X[i]\n",
    "        overall+=term\n",
    "    dJ_dw=overall/m\n",
    "    return dJ_dw,dJ_db\n",
    "\n",
    "def gradient(W,b,X,Y,lambda_=2):\n",
    "    dJ_dw,dJ_db=gradient_(W,b,X,Y)\n",
    "    for i in range(n):\n",
    "        dJ_dw[i]=dJ_dw[i]+(lambda_/m)*W[i]\n",
    "    dJ_db=dJ_db+(lambda_/m)*b\n",
    "    return dJ_dw,dJ_db\n",
    "\n",
    "def accuracy(W,b,X,Y,epsilon_=1e-6):\n",
    "    total_wrong=0\n",
    "    m,n=X.shape\n",
    "    for i in range(m):\n",
    "        power_term=np.dot(W,X[i])+b\n",
    "        internal_term=sigmoid(power_term)\n",
    "        if internal_term<epsilon_:\n",
    "            internal_term=float(0)\n",
    "        elif internal_term>=(1-epsilon_):\n",
    "            internal_term=float(1)\n",
    "        error=np.abs(internal_term-float(Y[i]))\n",
    "        if error>=1e-3:\n",
    "            total_wrong+=1\n",
    "    return (((len(X)-total_wrong)/len(X))*100)"
   ]
  },
  {
   "cell_type": "markdown",
   "id": "40308883",
   "metadata": {},
   "source": [
    "### Pre-processing the dataset and splitting it into train-test"
   ]
  },
  {
   "cell_type": "code",
   "execution_count": 10,
   "id": "c423371b",
   "metadata": {},
   "outputs": [],
   "source": [
    "df=pd.read_csv(\"breast-cancer.csv\")\n",
    "df=df.drop(['id'],axis='columns')\n",
    "\n",
    "X=df.drop(['diagnosis'],axis='columns')\n",
    "Y=df['diagnosis']\n",
    "\n",
    "dummies=pd.get_dummies(Y)\n",
    "Y=pd.concat([Y,dummies],axis='columns')\n",
    "Y=Y.drop(['diagnosis','B'],axis='columns')\n",
    "\n",
    "train_x,test_x,train_y,test_y=train_test_split(X,Y,test_size=0.2,random_state=10)\n",
    "train_x=np.array(train_x)\n",
    "train_y=np.array(train_y)\n",
    "test_x=np.array(test_x)\n",
    "test_y=np.array(test_y)"
   ]
  },
  {
   "cell_type": "markdown",
   "id": "8ed41a75",
   "metadata": {},
   "source": [
    "### Defining the model parameters"
   ]
  },
  {
   "cell_type": "code",
   "execution_count": 11,
   "id": "f8415325",
   "metadata": {},
   "outputs": [],
   "source": [
    "m,n=train_x.shape\n",
    "W=np.random.rand(n)\n",
    "b=np.random.rand()\n",
    "alpha_=0.01"
   ]
  },
  {
   "cell_type": "markdown",
   "id": "1ed9417a",
   "metadata": {},
   "source": [
    "### Training the model"
   ]
  },
  {
   "cell_type": "code",
   "execution_count": 12,
   "id": "e8b0c9b0",
   "metadata": {},
   "outputs": [],
   "source": [
    "J=cost(W,b,train_x,train_y)\n",
    "epochs=1000\n",
    "while epochs:\n",
    "    dJ_dw,dJ_db=gradient(W,b,train_x,train_y)\n",
    "    W=W-(alpha_*dJ_dw)\n",
    "    b=b-(alpha_*dJ_db)\n",
    "    J=cost(W,b,train_x,train_y)\n",
    "    epochs-=1"
   ]
  },
  {
   "cell_type": "markdown",
   "id": "3fade950",
   "metadata": {},
   "source": [
    "### Accuracy value"
   ]
  },
  {
   "cell_type": "code",
   "execution_count": 13,
   "id": "0afe736c",
   "metadata": {},
   "outputs": [
    {
     "name": "stdout",
     "output_type": "stream",
     "text": [
      "92.98245614035088 %\n"
     ]
    }
   ],
   "source": [
    "acc=accuracy(W,b,test_x,test_y)\n",
    "print(acc,'%')"
   ]
  }
 ],
 "metadata": {
  "kernelspec": {
   "display_name": "Python 3 (ipykernel)",
   "language": "python",
   "name": "python3"
  },
  "language_info": {
   "codemirror_mode": {
    "name": "ipython",
    "version": 3
   },
   "file_extension": ".py",
   "mimetype": "text/x-python",
   "name": "python",
   "nbconvert_exporter": "python",
   "pygments_lexer": "ipython3",
   "version": "3.11.4"
  }
 },
 "nbformat": 4,
 "nbformat_minor": 5
}
